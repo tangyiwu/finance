{
 "cells": [
  {
   "cell_type": "markdown",
   "metadata": {},
   "source": [
    "# Python获取财经数据和可视化分析"
   ]
  },
  {
   "cell_type": "markdown",
   "metadata": {},
   "source": [
    "## 1、引入需要的包"
   ]
  },
  {
   "cell_type": "code",
   "execution_count": null,
   "metadata": {},
   "outputs": [],
   "source": [
    "import tushare as ts\n",
    "import pandas as pd\n",
    "import matplotlib.pyplot as plt\n",
    "%matplotlib inline"
   ]
  },
  {
   "cell_type": "markdown",
   "metadata": {},
   "source": [
    "## 2、获取需要的数据"
   ]
  },
  {
   "cell_type": "code",
   "execution_count": null,
   "metadata": {},
   "outputs": [],
   "source": [
    "CPI=ts.get_cpi() # 获取cpi数据\n",
    "print(CPI.head())"
   ]
  },
  {
   "cell_type": "markdown",
   "metadata": {},
   "source": [
    "## 3、保存到本地文件夹"
   ]
  },
  {
   "cell_type": "markdown",
   "metadata": {},
   "source": [
    "使用to_csv将数据保存到本地 ~/code/python/finance/data/cpi.csv"
   ]
  },
  {
   "cell_type": "code",
   "execution_count": null,
   "metadata": {},
   "outputs": [],
   "source": [
    "CPI=CPI.sort_values('month') # 根据时间顺序排序（升序）\n",
    "CPI['cpi']=CPI['cpi']-100.0 # 转化成百分比数据\n",
    "CPI.to_csv(\"~/code/python/finance/data/cpi.csv\")"
   ]
  },
  {
   "cell_type": "markdown",
   "metadata": {},
   "source": [
    "## 4、读取数据和可视化"
   ]
  },
  {
   "cell_type": "code",
   "execution_count": null,
   "metadata": {},
   "outputs": [],
   "source": [
    "# 使用pandas读取刚刚保存的数据，注意pandas的缩写是pd\n",
    "df=pd.read_csv(\"~/code/python/finance/data/cpi.csv\")\n",
    "# 解决matplotlib中文标签乱码的问题\n",
    "from pylab import mpl\n",
    "mpl.rcParams['font.sans-serif'] = ['SimHei'] # 设置识别中文字体\n",
    "# 设置图形大小\n",
    "plt.figure(figsize=(12,6))\n",
    "# month数据为x轴，cpi数据为y轴\n",
    "plt.plot(df['month'], df['cpi'], linewidth=1.2)\n",
    "# plt.grid(True) 加网格线\n",
    "plt.axis('tight')\n",
    "plt.xlabel('年度', size=12)\n",
    "plt.ylabel('%', size=15)\n",
    "plt.title('CPI月度同比', size=12)"
   ]
  },
  {
   "cell_type": "code",
   "execution_count": null,
   "metadata": {},
   "outputs": [],
   "source": [
    "# 货币供应量\n",
    "money_supply=ts.get_money_supply()\n",
    "money_supply.head()"
   ]
  },
  {
   "cell_type": "code",
   "execution_count": null,
   "metadata": {},
   "outputs": [],
   "source": [
    "# 删除m2_yoy缺失值，或者取出连续不缺失的观测值，并保存到本地\n",
    "money_supply=money_supply.sort_values('month').iloc[228:,:]\n",
    "money_supply.to_csv(\"~/code/python/finance/data/MoneySupply.csv\")\n",
    "money_supply.head()"
   ]
  },
  {
   "cell_type": "markdown",
   "metadata": {},
   "source": [
    "使用pandas读取数据并进行数据清洗"
   ]
  },
  {
   "cell_type": "code",
   "execution_count": null,
   "metadata": {},
   "outputs": [],
   "source": [
    "date=pd.date_range('1997-1-1', periods=len(money_supply),freq='M')\n",
    "df=pd.read_csv(\"~/code/python/finance/data/MoneySupply.csv\")\n",
    "df.index=date\n",
    "# 只保留所需要的数据m2_yoy m1_yoy mo_yoy 即M2、M1、M0的月度同比增长率\n",
    "df=df.iloc[:, 2:8]\n",
    "from pylab import mpl\n",
    "mpl.rcParams['font.sans-serif'] = ['SimHei']\n",
    "df.rename(columns={'m2_yoy': 'M2增长率', 'm1_yoy':'M1增长率', 'm0_yoy':'M0增长率'}, inplace=True)\n",
    "df.head()"
   ]
  },
  {
   "cell_type": "markdown",
   "metadata": {},
   "source": [
    "对M1和M2数据进行可视化，并与重大经济金融事件联系起来，这里主要加入1997年的亚洲金融危机、2007年开始的美国次贷危机、2009年的四万亿刺激计划和2017年的金融去杠杆。代码如下："
   ]
  },
  {
   "cell_type": "code",
   "execution_count": null,
   "metadata": {},
   "outputs": [],
   "source": [
    "df[['M2增长率', 'M1增长率']].plot(figsize=(12,6))\n",
    "plt.xlabel('Date', size=15)\n",
    "plt.ylabel('%', size=15)\n",
    "plt.title('M2和M1月度同比增长%', size=16)\n",
    "plt.annotate('亚洲金融危机', size=13, xy=('1997-7-1', 24),\n",
    "             xytext=('1998-1-1', 27), arrowprops=dict(facecolor='black', shrink=0.05),)\n",
    "plt.annotate('美国次贷危机', size=13, xy=('2007-8-1', 20),\n",
    "             xytext=('2008-1-1', 24), arrowprops=dict(facecolor='red', shrink=0.05),)\n",
    "plt.annotate(u'四万亿刺激计划', size=13, xy=('2009-1-1', 30),\n",
    "             xytext=('2010-1-1', 32), arrowprops=dict(facecolor='black', shrink=0.05),)\n",
    "plt.annotate(u'金融去杠杆', size=13, xy=('2016-8-1', 12),\n",
    "             xytext=('2017-1-1', 15), arrowprops=dict(facecolor='black', shrink=0.05),)\n",
    "plt.grid(True)"
   ]
  },
  {
   "cell_type": "code",
   "execution_count": null,
   "metadata": {},
   "outputs": [],
   "source": []
  },
  {
   "cell_type": "code",
   "execution_count": null,
   "metadata": {},
   "outputs": [],
   "source": []
  }
 ],
 "metadata": {
  "kernelspec": {
   "display_name": "Python 3",
   "language": "python",
   "name": "python3"
  },
  "language_info": {
   "codemirror_mode": {
    "name": "ipython",
    "version": 3
   },
   "file_extension": ".py",
   "mimetype": "text/x-python",
   "name": "python",
   "nbconvert_exporter": "python",
   "pygments_lexer": "ipython3",
   "version": "3.7.3"
  }
 },
 "nbformat": 4,
 "nbformat_minor": 2
}
